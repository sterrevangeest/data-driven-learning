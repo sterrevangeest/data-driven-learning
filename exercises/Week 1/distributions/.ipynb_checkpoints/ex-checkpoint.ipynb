{
 "cells": [
  {
   "cell_type": "markdown",
   "metadata": {},
   "source": [
    "## Distributions Exercise"
   ]
  },
  {
   "cell_type": "code",
   "execution_count": 15,
   "metadata": {},
   "outputs": [
    {
     "name": "stdout",
     "output_type": "stream",
     "text": [
      "<class 'pandas.core.frame.DataFrame'>\n",
      "RangeIndex: 21 entries, 0 to 20\n",
      "Data columns (total 9 columns):\n",
      " #   Column               Non-Null Count  Dtype \n",
      "---  ------               --------------  ----- \n",
      " 0   id                   21 non-null     int64 \n",
      " 1   gender               21 non-null     object\n",
      " 2   instagram_followers  21 non-null     int64 \n",
      " 3   linkedin_con         21 non-null     int64 \n",
      " 4   phones_owned         21 non-null     int64 \n",
      " 5   apps_phone           21 non-null     int64 \n",
      " 6   os_phone             21 non-null     object\n",
      " 7   like_social          21 non-null     object\n",
      " 8   like_tech            21 non-null     object\n",
      "dtypes: int64(5), object(4)\n",
      "memory usage: 1.6+ KB\n"
     ]
    }
   ],
   "source": [
    "import seaborn as sns\n",
    "import pandas as pd\n",
    "import matplotlib.pyplot as plt\n",
    "\n",
    "df = pd.read_csv('class-updated.csv')\n",
    "df.info()"
   ]
  },
  {
   "cell_type": "markdown",
   "metadata": {},
   "source": [
    "### Histogram - Instagram Followers"
   ]
  },
  {
   "cell_type": "code",
   "execution_count": 14,
   "metadata": {},
   "outputs": [
    {
     "data": {
      "image/png": "[encoded data removed]",
      "text/plain": [
       "<Figure size 432x288 with 1 Axes>"
      ]
     },
     "metadata": {
      "needs_background": "light"
     },
     "output_type": "display_data"
    }
   ],
   "source": [
    "df['instagram_followers'].name = 'Amount of Instagram followers' #Labeling the variable for plotting\n",
    "file_size = df['instagram_followers'].dropna() #Selecting the size column. I need to drop the NA's, otherwise Seaborn won't plot\n",
    "sns.histplot(file_size, kde=False) \n",
    "plt.title('Amount of Instagram followers')\n",
    "mean_size = df['instagram_followers'].mean()\n",
    "median_size = df['instagram_followers'].median()\n",
    "\n",
    "plt.axvline(median_size, 0, 100, color='green', label='median') #This adds a vertical line at x-position median_size, from y = 0 to y = 100 \n",
    "plt.axvline(mean_size, 0, 100, color='blue', label='mean') \n",
    "plt.show()"
   ]
  },
  {
   "cell_type": "markdown",
   "metadata": {},
   "source": [
    "### Boxplot - LinkedIn Connections"
   ]
  },
  {
   "cell_type": "code",
   "execution_count": 26,
   "metadata": {},
   "outputs": [
    {
     "data": {
      "image/png": "[encoded data removed]",
      "text/plain": [
       "<Figure size 432x288 with 1 Axes>"
      ]
     },
     "metadata": {
      "needs_background": "light"
     },
     "output_type": "display_data"
    }
   ],
   "source": [
    "data = df['linkedin_con']\n",
    "sns.boxplot(x=data)\n",
    "plt.title('LinkedIn Connections')\n",
    "plt.xlabel('Amount of Connections')\n",
    "plt.show()"
   ]
  },
  {
   "cell_type": "code",
   "execution_count": null,
   "metadata": {},
   "outputs": [],
   "source": []
  }
 ],
 "metadata": {
  "kernelspec": {
   "display_name": "Python 3",
   "language": "python",
   "name": "python3"
  },
  "language_info": {
   "codemirror_mode": {
    "name": "ipython",
    "version": 3
   },
   "file_extension": ".py",
   "mimetype": "text/x-python",
   "name": "python",
   "nbconvert_exporter": "python",
   "pygments_lexer": "ipython3",
   "version": "3.8.5"
  }
 },
 "nbformat": 4,
 "nbformat_minor": 4
}
